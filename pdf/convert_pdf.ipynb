{
 "cells": [
  {
   "cell_type": "markdown",
   "metadata": {},
   "source": [
    "# Ler PDF (Portable Document Format)\n",
    "Estudo para verificar qual a melhor biblioteca para leitura do DOM-SP (Diário Oficial do Município de São Paulo)."
   ]
  },
  {
   "cell_type": "code",
   "execution_count": 8,
   "metadata": {},
   "outputs": [],
   "source": [
    "# Importação das bibliotecas necessárias\n",
    "from datetime import date, datetime, timedelta\n",
    "from os import getcwd, path, listdir, chdir\n",
    "### Importando a biblioteca\n",
    "import fitz as fz\n",
    "import datetime\n",
    "import os"
   ]
  },
  {
   "cell_type": "code",
   "execution_count": 9,
   "metadata": {},
   "outputs": [
    {
     "name": "stdout",
     "output_type": "stream",
     "text": [
      "DATA_DIR: /home/viniciusgb/Projetos/tools/ler_pdf/data/files_pdf\n",
      "0: Semana_4-COM400-Videoaula-07.pdf\n",
      "1: Semana_4-COM400-Videoaula-08.pdf\n"
     ]
    }
   ],
   "source": [
    "# Definindo a base dos arquivos\n",
    "BASE_DIR = os.getcwd()\n",
    "DATA_DIR = os.path.join(BASE_DIR,'data/files_pdf')\n",
    "os.chdir(BASE_DIR)\n",
    "print(f\"DATA_DIR: {DATA_DIR}\")\n",
    "list_files_names = os.listdir(DATA_DIR)\n",
    "#file_test = DATA_DIR +'/'+ list_files_names[5]\n",
    "#print(f\"FILE_NAME: {file_test}\")\n",
    "SAVE_DIR = \"data/outputs_files_pdf/\"\n",
    "\n",
    "for indice, livro in enumerate(list_files_names):\n",
    "    print(f\"{indice}: {livro}\")"
   ]
  },
  {
   "cell_type": "code",
   "execution_count": 14,
   "metadata": {},
   "outputs": [
    {
     "name": "stdout",
     "output_type": "stream",
     "text": [
      "DATA_DIR: /home/viniciusgb/Projetos/tools/ler_pdf/data/files_pdf\n",
      "Semana_4-COM400-Videoaula-07.pdf\n",
      "TA-Combinar e Escolher cores para o Design Gráfico_ 4 Dicas.pdf\n",
      "Semana_4-COM400-Videoaula-08-Quiz.pdf\n",
      "Semana_4-COM400-Videoaula-07-Quiz.pdf\n",
      "TA-Cores em Dashboard_ 9 dicas para não errar mais.pdf\n",
      "AT-Dez dicas para deixar sua visualização de dados mais acessível _ by Vinícius Cassio Barqueiro _ datavizbr _ Medium.pdf\n",
      "AT-Como pessoas daltônicas enxergam as cores de seus gráficos - Escola de Dados.pdf\n",
      "Semana_4-COM400-Videoaula-08.pdf\n"
     ]
    }
   ],
   "source": [
    "# Definindo a base dos arquivos\n",
    "BASE_DIR = os.getcwd()\n",
    "DATA_DIR = os.path.join(BASE_DIR,'data/files_pdf')\n",
    "os.chdir(BASE_DIR)\n",
    "print(f\"DATA_DIR: {DATA_DIR}\")\n",
    "list_files_names = os.listdir(DATA_DIR)\n",
    "#file_test = DATA_DIR +'/'+ list_files_names[5]\n",
    "#print(f\"FILE_NAME: {file_test}\")\n",
    "SAVE_DIR = \"data/outputs_files_pdf/\"\n",
    "\n",
    "for open_file in list_files_names:\n",
    "    print(open_file)\n",
    "    ### Lendo o arquivo\n",
    "    with fz.open(f'{DATA_DIR}/{open_file}') as file:\n",
    "            contexts = ''\n",
    "            i = 0\n",
    "            for page in file:\n",
    "                    i += 1\n",
    "                    contexts += f\"<pag {i}>\\n\"+page.get_text()\n",
    "    #contexts = contexts[contexts.find('<pag 145>'):contexts.find('<pag 159>')]\n",
    "    contexts = contexts.replace(\" \\n\",\" \")\n",
    "    contexts = contexts.replace(\"-\\n\",\"\")\n",
    "    ### Salvando o arquivo final\n",
    "    with open(f\"{SAVE_DIR}{open_file}.txt\",\"w\",encoding='utf-8-sig') as output_file:\n",
    "        output_file.write(contexts)"
   ]
  },
  {
   "cell_type": "markdown",
   "metadata": {},
   "source": [
    "## Biblioteca Pymupdf"
   ]
  },
  {
   "cell_type": "code",
   "execution_count": 3,
   "metadata": {},
   "outputs": [
    {
     "name": "stdout",
     "output_type": "stream",
     "text": [
      "Requirement already satisfied: pymupdf in /home/viniciusgb/ENVS/dom/lib/python3.8/site-packages (1.20.2)\n",
      "\n",
      "\u001b[1m[\u001b[0m\u001b[34;49mnotice\u001b[0m\u001b[1;39;49m]\u001b[0m\u001b[39;49m A new release of pip available: \u001b[0m\u001b[31;49m22.1.2\u001b[0m\u001b[39;49m -> \u001b[0m\u001b[32;49m22.2.2\u001b[0m\n",
      "\u001b[1m[\u001b[0m\u001b[34;49mnotice\u001b[0m\u001b[1;39;49m]\u001b[0m\u001b[39;49m To update, run: \u001b[0m\u001b[32;49mpip install --upgrade pip\u001b[0m\n"
     ]
    }
   ],
   "source": [
    "### Instalação\n",
    "!pip install --upgrade pymupdf"
   ]
  },
  {
   "cell_type": "code",
   "execution_count": 4,
   "metadata": {},
   "outputs": [],
   "source": [
    "### Importando a biblioteca\n",
    "import fitz as fz"
   ]
  },
  {
   "cell_type": "code",
   "execution_count": 28,
   "metadata": {},
   "outputs": [],
   "source": [
    "### Lendo o arquivo\n",
    "with fz.open(file_test) as file:\n",
    "        contexts = ''\n",
    "        i = 0\n",
    "        for page in file:\n",
    "                i += 1\n",
    "                contexts += f\"<pag {i}>\\n\"+page.get_text()"
   ]
  },
  {
   "cell_type": "code",
   "execution_count": 24,
   "metadata": {},
   "outputs": [],
   "source": [
    "contexts = contexts[contexts.find('<pag 494>'):contexts.find('<pag 501>')]\n",
    "contexts = contexts.replace(\" \\n\",\" \")"
   ]
  },
  {
   "cell_type": "code",
   "execution_count": 26,
   "metadata": {},
   "outputs": [],
   "source": [
    "### Salvando o arquivo final\n",
    "with open(f\"{SAVE_DIR}s2-496_501.txt\",\"w\",encoding='utf-8-sig') as output_file:\n",
    "    output_file.write(contexts)"
   ]
  },
  {
   "cell_type": "markdown",
   "metadata": {},
   "source": [
    "### Merge PDFs"
   ]
  },
  {
   "cell_type": "code",
   "execution_count": 8,
   "metadata": {},
   "outputs": [],
   "source": [
    "import os\n",
    "from PyPDF2 import PdfFileReader, PdfFileMerger\n",
    "\n",
    "pdf_files = [f for f in os.listdir(DATA_DIR) if f.endswith(\"pdf\")]\n",
    "merger = PdfFileMerger()\n",
    "\n",
    "for filename in pdf_files:\n",
    "    merger.append(PdfFileReader(os.path.join(DATA_DIR, filename), \"rb\"))\n",
    "\n",
    "merger.write(os.path.join(SAVE_DIR, \"output_pyPDF2_merged_full.pdf\"))"
   ]
  },
  {
   "cell_type": "markdown",
   "metadata": {},
   "source": [
    "## Biblioteca Tabula"
   ]
  },
  {
   "cell_type": "code",
   "execution_count": 17,
   "metadata": {},
   "outputs": [
    {
     "name": "stdout",
     "output_type": "stream",
     "text": [
      "\u001b[31mERROR: Could not find a version that satisfies the requirement java (from versions: none)\u001b[0m\u001b[31m\n",
      "\u001b[0m\u001b[31mERROR: No matching distribution found for java\u001b[0m\u001b[31m\n",
      "\u001b[0m\n",
      "\u001b[1m[\u001b[0m\u001b[34;49mnotice\u001b[0m\u001b[1;39;49m]\u001b[0m\u001b[39;49m A new release of pip available: \u001b[0m\u001b[31;49m22.1.2\u001b[0m\u001b[39;49m -> \u001b[0m\u001b[32;49m22.2.2\u001b[0m\n",
      "\u001b[1m[\u001b[0m\u001b[34;49mnotice\u001b[0m\u001b[1;39;49m]\u001b[0m\u001b[39;49m To update, run: \u001b[0m\u001b[32;49mpip install --upgrade pip\u001b[0m\n"
     ]
    }
   ],
   "source": [
    "!pip install java"
   ]
  },
  {
   "cell_type": "code",
   "execution_count": 18,
   "metadata": {},
   "outputs": [
    {
     "name": "stdout",
     "output_type": "stream",
     "text": [
      "Requirement already satisfied: tabula-py in /home/viniciusgb/ENVS/dom/lib/python3.8/site-packages (2.5.0)\n",
      "Requirement already satisfied: numpy in /home/viniciusgb/ENVS/dom/lib/python3.8/site-packages (from tabula-py) (1.23.0)\n",
      "Requirement already satisfied: pandas>=0.25.3 in /home/viniciusgb/ENVS/dom/lib/python3.8/site-packages (from tabula-py) (1.4.3)\n",
      "Requirement already satisfied: distro in /home/viniciusgb/ENVS/dom/lib/python3.8/site-packages (from tabula-py) (1.7.0)\n",
      "Requirement already satisfied: pytz>=2020.1 in /home/viniciusgb/ENVS/dom/lib/python3.8/site-packages (from pandas>=0.25.3->tabula-py) (2022.1)\n",
      "Requirement already satisfied: python-dateutil>=2.8.1 in /home/viniciusgb/ENVS/dom/lib/python3.8/site-packages (from pandas>=0.25.3->tabula-py) (2.8.2)\n",
      "Requirement already satisfied: six>=1.5 in /home/viniciusgb/ENVS/dom/lib/python3.8/site-packages (from python-dateutil>=2.8.1->pandas>=0.25.3->tabula-py) (1.16.0)\n",
      "\n",
      "\u001b[1m[\u001b[0m\u001b[34;49mnotice\u001b[0m\u001b[1;39;49m]\u001b[0m\u001b[39;49m A new release of pip available: \u001b[0m\u001b[31;49m22.1.2\u001b[0m\u001b[39;49m -> \u001b[0m\u001b[32;49m22.2.2\u001b[0m\n",
      "\u001b[1m[\u001b[0m\u001b[34;49mnotice\u001b[0m\u001b[1;39;49m]\u001b[0m\u001b[39;49m To update, run: \u001b[0m\u001b[32;49mpip install --upgrade pip\u001b[0m\n"
     ]
    }
   ],
   "source": [
    "### Instalação\n",
    "!pip install tabula-py"
   ]
  },
  {
   "cell_type": "code",
   "execution_count": 19,
   "metadata": {},
   "outputs": [],
   "source": [
    "import tabula"
   ]
  },
  {
   "cell_type": "code",
   "execution_count": 20,
   "metadata": {},
   "outputs": [
    {
     "ename": "JavaNotFoundError",
     "evalue": "`java` command is not found from this Python process.Please ensure Java is installed and PATH is set for `java`",
     "output_type": "error",
     "traceback": [
      "\u001b[0;31m---------------------------------------------------------------------------\u001b[0m",
      "\u001b[0;31mFileNotFoundError\u001b[0m                         Traceback (most recent call last)",
      "File \u001b[0;32m~/ENVS/dom/lib/python3.8/site-packages/tabula/io.py:87\u001b[0m, in \u001b[0;36m_run\u001b[0;34m(java_options, options, path, encoding)\u001b[0m\n\u001b[1;32m     86\u001b[0m \u001b[39mtry\u001b[39;00m:\n\u001b[0;32m---> 87\u001b[0m     result \u001b[39m=\u001b[39m subprocess\u001b[39m.\u001b[39;49mrun(\n\u001b[1;32m     88\u001b[0m         args,\n\u001b[1;32m     89\u001b[0m         stdout\u001b[39m=\u001b[39;49msubprocess\u001b[39m.\u001b[39;49mPIPE,\n\u001b[1;32m     90\u001b[0m         stderr\u001b[39m=\u001b[39;49msubprocess\u001b[39m.\u001b[39;49mPIPE,\n\u001b[1;32m     91\u001b[0m         stdin\u001b[39m=\u001b[39;49msubprocess\u001b[39m.\u001b[39;49mDEVNULL,\n\u001b[1;32m     92\u001b[0m         check\u001b[39m=\u001b[39;49m\u001b[39mTrue\u001b[39;49;00m,\n\u001b[1;32m     93\u001b[0m     )\n\u001b[1;32m     94\u001b[0m     \u001b[39mif\u001b[39;00m result\u001b[39m.\u001b[39mstderr:\n",
      "File \u001b[0;32m/usr/lib/python3.8/subprocess.py:493\u001b[0m, in \u001b[0;36mrun\u001b[0;34m(input, capture_output, timeout, check, *popenargs, **kwargs)\u001b[0m\n\u001b[1;32m    491\u001b[0m     kwargs[\u001b[39m'\u001b[39m\u001b[39mstderr\u001b[39m\u001b[39m'\u001b[39m] \u001b[39m=\u001b[39m PIPE\n\u001b[0;32m--> 493\u001b[0m \u001b[39mwith\u001b[39;00m Popen(\u001b[39m*\u001b[39;49mpopenargs, \u001b[39m*\u001b[39;49m\u001b[39m*\u001b[39;49mkwargs) \u001b[39mas\u001b[39;00m process:\n\u001b[1;32m    494\u001b[0m     \u001b[39mtry\u001b[39;00m:\n",
      "File \u001b[0;32m/usr/lib/python3.8/subprocess.py:858\u001b[0m, in \u001b[0;36mPopen.__init__\u001b[0;34m(self, args, bufsize, executable, stdin, stdout, stderr, preexec_fn, close_fds, shell, cwd, env, universal_newlines, startupinfo, creationflags, restore_signals, start_new_session, pass_fds, encoding, errors, text)\u001b[0m\n\u001b[1;32m    855\u001b[0m             \u001b[39mself\u001b[39m\u001b[39m.\u001b[39mstderr \u001b[39m=\u001b[39m io\u001b[39m.\u001b[39mTextIOWrapper(\u001b[39mself\u001b[39m\u001b[39m.\u001b[39mstderr,\n\u001b[1;32m    856\u001b[0m                     encoding\u001b[39m=\u001b[39mencoding, errors\u001b[39m=\u001b[39merrors)\n\u001b[0;32m--> 858\u001b[0m     \u001b[39mself\u001b[39;49m\u001b[39m.\u001b[39;49m_execute_child(args, executable, preexec_fn, close_fds,\n\u001b[1;32m    859\u001b[0m                         pass_fds, cwd, env,\n\u001b[1;32m    860\u001b[0m                         startupinfo, creationflags, shell,\n\u001b[1;32m    861\u001b[0m                         p2cread, p2cwrite,\n\u001b[1;32m    862\u001b[0m                         c2pread, c2pwrite,\n\u001b[1;32m    863\u001b[0m                         errread, errwrite,\n\u001b[1;32m    864\u001b[0m                         restore_signals, start_new_session)\n\u001b[1;32m    865\u001b[0m \u001b[39mexcept\u001b[39;00m:\n\u001b[1;32m    866\u001b[0m     \u001b[39m# Cleanup if the child failed starting.\u001b[39;00m\n",
      "File \u001b[0;32m/usr/lib/python3.8/subprocess.py:1704\u001b[0m, in \u001b[0;36mPopen._execute_child\u001b[0;34m(self, args, executable, preexec_fn, close_fds, pass_fds, cwd, env, startupinfo, creationflags, shell, p2cread, p2cwrite, c2pread, c2pwrite, errread, errwrite, restore_signals, start_new_session)\u001b[0m\n\u001b[1;32m   1703\u001b[0m         err_msg \u001b[39m=\u001b[39m os\u001b[39m.\u001b[39mstrerror(errno_num)\n\u001b[0;32m-> 1704\u001b[0m     \u001b[39mraise\u001b[39;00m child_exception_type(errno_num, err_msg, err_filename)\n\u001b[1;32m   1705\u001b[0m \u001b[39mraise\u001b[39;00m child_exception_type(err_msg)\n",
      "\u001b[0;31mFileNotFoundError\u001b[0m: [Errno 2] No such file or directory: 'java'",
      "\nDuring handling of the above exception, another exception occurred:\n",
      "\u001b[0;31mJavaNotFoundError\u001b[0m                         Traceback (most recent call last)",
      "\u001b[1;32m/home/viniciusgb/Projetos/scrapy_dom/ler_pdf/convert.ipynb Cell 16\u001b[0m in \u001b[0;36m<cell line: 2>\u001b[0;34m()\u001b[0m\n\u001b[1;32m      <a href='vscode-notebook-cell:/home/viniciusgb/Projetos/scrapy_dom/ler_pdf/convert.ipynb#X40sZmlsZQ%3D%3D?line=0'>1</a>\u001b[0m \u001b[39m# Lendo o arquivo\u001b[39;00m\n\u001b[0;32m----> <a href='vscode-notebook-cell:/home/viniciusgb/Projetos/scrapy_dom/ler_pdf/convert.ipynb#X40sZmlsZQ%3D%3D?line=1'>2</a>\u001b[0m dfs \u001b[39m=\u001b[39m tabula\u001b[39m.\u001b[39;49mread_pdf(file_test,pages\u001b[39m=\u001b[39;49m\u001b[39m\"\u001b[39;49m\u001b[39mall\u001b[39;49m\u001b[39m\"\u001b[39;49m,multiple_tables\u001b[39m=\u001b[39;49m\u001b[39mTrue\u001b[39;49;00m,encoding\u001b[39m=\u001b[39;49m\u001b[39m'\u001b[39;49m\u001b[39mutf-8\u001b[39;49m\u001b[39m'\u001b[39;49m,pandas_options\u001b[39m=\u001b[39;49m{\u001b[39m\"\u001b[39;49m\u001b[39mheader\u001b[39;49m\u001b[39m\"\u001b[39;49m: [\u001b[39m0\u001b[39;49m, \u001b[39m1\u001b[39;49m]})\n\u001b[1;32m      <a href='vscode-notebook-cell:/home/viniciusgb/Projetos/scrapy_dom/ler_pdf/convert.ipynb#X40sZmlsZQ%3D%3D?line=2'>3</a>\u001b[0m \u001b[39mprint\u001b[39m(\u001b[39mf\u001b[39m\u001b[39m\"\u001b[39m\u001b[39mQuantidade de páginas: \u001b[39m\u001b[39m{\u001b[39;00m\u001b[39mlen\u001b[39m(dfs)\u001b[39m}\u001b[39;00m\u001b[39m\"\u001b[39m)\n",
      "File \u001b[0;32m~/ENVS/dom/lib/python3.8/site-packages/tabula/io.py:334\u001b[0m, in \u001b[0;36mread_pdf\u001b[0;34m(input_path, output_format, encoding, java_options, pandas_options, multiple_tables, user_agent, use_raw_url, **kwargs)\u001b[0m\n\u001b[1;32m    329\u001b[0m     \u001b[39mraise\u001b[39;00m \u001b[39mValueError\u001b[39;00m(\n\u001b[1;32m    330\u001b[0m         \u001b[39m\"\u001b[39m\u001b[39m{}\u001b[39;00m\u001b[39m is empty. Check the file, or download it manually.\u001b[39m\u001b[39m\"\u001b[39m\u001b[39m.\u001b[39mformat(path)\n\u001b[1;32m    331\u001b[0m     )\n\u001b[1;32m    333\u001b[0m \u001b[39mtry\u001b[39;00m:\n\u001b[0;32m--> 334\u001b[0m     output \u001b[39m=\u001b[39m _run(java_options, kwargs, path, encoding)\n\u001b[1;32m    335\u001b[0m \u001b[39mfinally\u001b[39;00m:\n\u001b[1;32m    336\u001b[0m     \u001b[39mif\u001b[39;00m temporary:\n",
      "File \u001b[0;32m~/ENVS/dom/lib/python3.8/site-packages/tabula/io.py:98\u001b[0m, in \u001b[0;36m_run\u001b[0;34m(java_options, options, path, encoding)\u001b[0m\n\u001b[1;32m     96\u001b[0m     \u001b[39mreturn\u001b[39;00m result\u001b[39m.\u001b[39mstdout\n\u001b[1;32m     97\u001b[0m \u001b[39mexcept\u001b[39;00m \u001b[39mFileNotFoundError\u001b[39;00m:\n\u001b[0;32m---> 98\u001b[0m     \u001b[39mraise\u001b[39;00m JavaNotFoundError(JAVA_NOT_FOUND_ERROR)\n\u001b[1;32m     99\u001b[0m \u001b[39mexcept\u001b[39;00m subprocess\u001b[39m.\u001b[39mCalledProcessError \u001b[39mas\u001b[39;00m e:\n\u001b[1;32m    100\u001b[0m     logger\u001b[39m.\u001b[39merror(\u001b[39m\"\u001b[39m\u001b[39mError from tabula-java:\u001b[39m\u001b[39m\\n\u001b[39;00m\u001b[39m{}\u001b[39;00m\u001b[39m\\n\u001b[39;00m\u001b[39m\"\u001b[39m\u001b[39m.\u001b[39mformat(e\u001b[39m.\u001b[39mstderr\u001b[39m.\u001b[39mdecode(encoding)))\n",
      "\u001b[0;31mJavaNotFoundError\u001b[0m: `java` command is not found from this Python process.Please ensure Java is installed and PATH is set for `java`"
     ]
    }
   ],
   "source": [
    "# Lendo o arquivo\n",
    "dfs = tabula.read_pdf(file_test,pages=\"all\",multiple_tables=True,encoding='utf-8',pandas_options={\"header\": [0, 1]})\n",
    "print(f\"Quantidade de páginas: {len(dfs)}\")"
   ]
  },
  {
   "cell_type": "code",
   "execution_count": 21,
   "metadata": {},
   "outputs": [
    {
     "ename": "JavaNotFoundError",
     "evalue": "`java` command is not found from this Python process.Please ensure Java is installed and PATH is set for `java`",
     "output_type": "error",
     "traceback": [
      "\u001b[0;31m---------------------------------------------------------------------------\u001b[0m",
      "\u001b[0;31mFileNotFoundError\u001b[0m                         Traceback (most recent call last)",
      "File \u001b[0;32m~/ENVS/dom/lib/python3.8/site-packages/tabula/io.py:87\u001b[0m, in \u001b[0;36m_run\u001b[0;34m(java_options, options, path, encoding)\u001b[0m\n\u001b[1;32m     86\u001b[0m \u001b[39mtry\u001b[39;00m:\n\u001b[0;32m---> 87\u001b[0m     result \u001b[39m=\u001b[39m subprocess\u001b[39m.\u001b[39;49mrun(\n\u001b[1;32m     88\u001b[0m         args,\n\u001b[1;32m     89\u001b[0m         stdout\u001b[39m=\u001b[39;49msubprocess\u001b[39m.\u001b[39;49mPIPE,\n\u001b[1;32m     90\u001b[0m         stderr\u001b[39m=\u001b[39;49msubprocess\u001b[39m.\u001b[39;49mPIPE,\n\u001b[1;32m     91\u001b[0m         stdin\u001b[39m=\u001b[39;49msubprocess\u001b[39m.\u001b[39;49mDEVNULL,\n\u001b[1;32m     92\u001b[0m         check\u001b[39m=\u001b[39;49m\u001b[39mTrue\u001b[39;49;00m,\n\u001b[1;32m     93\u001b[0m     )\n\u001b[1;32m     94\u001b[0m     \u001b[39mif\u001b[39;00m result\u001b[39m.\u001b[39mstderr:\n",
      "File \u001b[0;32m/usr/lib/python3.8/subprocess.py:493\u001b[0m, in \u001b[0;36mrun\u001b[0;34m(input, capture_output, timeout, check, *popenargs, **kwargs)\u001b[0m\n\u001b[1;32m    491\u001b[0m     kwargs[\u001b[39m'\u001b[39m\u001b[39mstderr\u001b[39m\u001b[39m'\u001b[39m] \u001b[39m=\u001b[39m PIPE\n\u001b[0;32m--> 493\u001b[0m \u001b[39mwith\u001b[39;00m Popen(\u001b[39m*\u001b[39;49mpopenargs, \u001b[39m*\u001b[39;49m\u001b[39m*\u001b[39;49mkwargs) \u001b[39mas\u001b[39;00m process:\n\u001b[1;32m    494\u001b[0m     \u001b[39mtry\u001b[39;00m:\n",
      "File \u001b[0;32m/usr/lib/python3.8/subprocess.py:858\u001b[0m, in \u001b[0;36mPopen.__init__\u001b[0;34m(self, args, bufsize, executable, stdin, stdout, stderr, preexec_fn, close_fds, shell, cwd, env, universal_newlines, startupinfo, creationflags, restore_signals, start_new_session, pass_fds, encoding, errors, text)\u001b[0m\n\u001b[1;32m    855\u001b[0m             \u001b[39mself\u001b[39m\u001b[39m.\u001b[39mstderr \u001b[39m=\u001b[39m io\u001b[39m.\u001b[39mTextIOWrapper(\u001b[39mself\u001b[39m\u001b[39m.\u001b[39mstderr,\n\u001b[1;32m    856\u001b[0m                     encoding\u001b[39m=\u001b[39mencoding, errors\u001b[39m=\u001b[39merrors)\n\u001b[0;32m--> 858\u001b[0m     \u001b[39mself\u001b[39;49m\u001b[39m.\u001b[39;49m_execute_child(args, executable, preexec_fn, close_fds,\n\u001b[1;32m    859\u001b[0m                         pass_fds, cwd, env,\n\u001b[1;32m    860\u001b[0m                         startupinfo, creationflags, shell,\n\u001b[1;32m    861\u001b[0m                         p2cread, p2cwrite,\n\u001b[1;32m    862\u001b[0m                         c2pread, c2pwrite,\n\u001b[1;32m    863\u001b[0m                         errread, errwrite,\n\u001b[1;32m    864\u001b[0m                         restore_signals, start_new_session)\n\u001b[1;32m    865\u001b[0m \u001b[39mexcept\u001b[39;00m:\n\u001b[1;32m    866\u001b[0m     \u001b[39m# Cleanup if the child failed starting.\u001b[39;00m\n",
      "File \u001b[0;32m/usr/lib/python3.8/subprocess.py:1704\u001b[0m, in \u001b[0;36mPopen._execute_child\u001b[0;34m(self, args, executable, preexec_fn, close_fds, pass_fds, cwd, env, startupinfo, creationflags, shell, p2cread, p2cwrite, c2pread, c2pwrite, errread, errwrite, restore_signals, start_new_session)\u001b[0m\n\u001b[1;32m   1703\u001b[0m         err_msg \u001b[39m=\u001b[39m os\u001b[39m.\u001b[39mstrerror(errno_num)\n\u001b[0;32m-> 1704\u001b[0m     \u001b[39mraise\u001b[39;00m child_exception_type(errno_num, err_msg, err_filename)\n\u001b[1;32m   1705\u001b[0m \u001b[39mraise\u001b[39;00m child_exception_type(err_msg)\n",
      "\u001b[0;31mFileNotFoundError\u001b[0m: [Errno 2] No such file or directory: 'java'",
      "\nDuring handling of the above exception, another exception occurred:\n",
      "\u001b[0;31mJavaNotFoundError\u001b[0m                         Traceback (most recent call last)",
      "\u001b[1;32m/home/viniciusgb/Projetos/scrapy_dom/ler_pdf/convert.ipynb Cell 17\u001b[0m in \u001b[0;36m<cell line: 3>\u001b[0;34m()\u001b[0m\n\u001b[1;32m      <a href='vscode-notebook-cell:/home/viniciusgb/Projetos/scrapy_dom/ler_pdf/convert.ipynb#X42sZmlsZQ%3D%3D?line=0'>1</a>\u001b[0m \u001b[39m### Convertendo todos os arquivos em csv de uma pasta\u001b[39;00m\n\u001b[0;32m----> <a href='vscode-notebook-cell:/home/viniciusgb/Projetos/scrapy_dom/ler_pdf/convert.ipynb#X42sZmlsZQ%3D%3D?line=2'>3</a>\u001b[0m tabula\u001b[39m.\u001b[39;49mconvert_into_by_batch(DATA_DIR,output_format\u001b[39m=\u001b[39;49m\u001b[39m\"\u001b[39;49m\u001b[39mtsv\u001b[39;49m\u001b[39m\"\u001b[39;49m,pages\u001b[39m=\u001b[39;49m\u001b[39m\"\u001b[39;49m\u001b[39mall\u001b[39;49m\u001b[39m\"\u001b[39;49m)\n",
      "File \u001b[0;32m~/ENVS/dom/lib/python3.8/site-packages/tabula/io.py:631\u001b[0m, in \u001b[0;36mconvert_into_by_batch\u001b[0;34m(input_dir, output_format, java_options, **kwargs)\u001b[0m\n\u001b[1;32m    628\u001b[0m \u001b[39m# Option for batch\u001b[39;00m\n\u001b[1;32m    629\u001b[0m kwargs[\u001b[39m\"\u001b[39m\u001b[39mbatch\u001b[39m\u001b[39m\"\u001b[39m] \u001b[39m=\u001b[39m input_dir\n\u001b[0;32m--> 631\u001b[0m _run(java_options, kwargs)\n",
      "File \u001b[0;32m~/ENVS/dom/lib/python3.8/site-packages/tabula/io.py:98\u001b[0m, in \u001b[0;36m_run\u001b[0;34m(java_options, options, path, encoding)\u001b[0m\n\u001b[1;32m     96\u001b[0m     \u001b[39mreturn\u001b[39;00m result\u001b[39m.\u001b[39mstdout\n\u001b[1;32m     97\u001b[0m \u001b[39mexcept\u001b[39;00m \u001b[39mFileNotFoundError\u001b[39;00m:\n\u001b[0;32m---> 98\u001b[0m     \u001b[39mraise\u001b[39;00m JavaNotFoundError(JAVA_NOT_FOUND_ERROR)\n\u001b[1;32m     99\u001b[0m \u001b[39mexcept\u001b[39;00m subprocess\u001b[39m.\u001b[39mCalledProcessError \u001b[39mas\u001b[39;00m e:\n\u001b[1;32m    100\u001b[0m     logger\u001b[39m.\u001b[39merror(\u001b[39m\"\u001b[39m\u001b[39mError from tabula-java:\u001b[39m\u001b[39m\\n\u001b[39;00m\u001b[39m{}\u001b[39;00m\u001b[39m\\n\u001b[39;00m\u001b[39m\"\u001b[39m\u001b[39m.\u001b[39mformat(e\u001b[39m.\u001b[39mstderr\u001b[39m.\u001b[39mdecode(encoding)))\n",
      "\u001b[0;31mJavaNotFoundError\u001b[0m: `java` command is not found from this Python process.Please ensure Java is installed and PATH is set for `java`"
     ]
    }
   ],
   "source": [
    "### Convertendo todos os arquivos em csv de uma pasta\n",
    "\n",
    "tabula.convert_into_by_batch(DATA_DIR,output_format=\"tsv\",pages=\"all\")"
   ]
  },
  {
   "cell_type": "markdown",
   "metadata": {},
   "source": [
    "## Enviar e-mail com os dados"
   ]
  },
  {
   "cell_type": "code",
   "execution_count": 31,
   "metadata": {},
   "outputs": [],
   "source": [
    "from email.message import EmailMessage\n",
    "import smtplib"
   ]
  },
  {
   "cell_type": "code",
   "execution_count": 32,
   "metadata": {},
   "outputs": [],
   "source": [
    "EMAIL = os.getenv('EMAIL')\n",
    "SENHA = os.getenv('SENHA')\n",
    "SMTP_USERNAME = os.getenv('SMTP_USERNAME')\n",
    "SMTP_PASSWORD = os.getenv('SMTP_PASSWORD')\n",
    "SMTP_SERVER = os.getenv('SMTP_SERVER')\n",
    "SMTP_PORT = os.getenv('SMTP_PORT')"
   ]
  },
  {
   "cell_type": "code",
   "execution_count": 34,
   "metadata": {},
   "outputs": [
    {
     "name": "stdout",
     "output_type": "stream",
     "text": [
      "None\n"
     ]
    }
   ],
   "source": [
    "print(EMAIL)"
   ]
  },
  {
   "cell_type": "code",
   "execution_count": 45,
   "metadata": {},
   "outputs": [],
   "source": [
    "# configurações principais\n",
    "EMAIL_FROM = os.getenv('EMAIL_FROM')\n",
    "EMAIL_TO = os.getenv('EMAIL_TO')\n",
    "EMAIL_SUBJECT = \"Teste Python\"\n",
    "#EMAIL_MESSAGE = \"The message here\"\n",
    "EMAIL = \"viniciusgomesb@gmail.com\"\n",
    "SENHA = \"#NiVi@110715$\"\n",
    "SMTP_USERNAME = \"viniciusgomesb@gmail.com\"\n",
    "SMTP_PASSWORD = \"#NiVi@110715$\"\n",
    "SMTP_SERVER = \"smtp.gmail.com\"\n",
    "SMTP_PORT = 465\n",
    "EMAIL_FROM = \"viniciusgomesb@gmail.com\"\n",
    "EMAIL_TO = \"viniciusgomesb@gmail.com\"\n",
    "EMAIL_SUBJECT = \"Teste Python\"\n",
    "#EMAIL_MESSAGE = \"The message here\"\n",
    "EMAIL_MESSAGE = f\"\"\"\n",
    "<p>Olá Lira, aqui é o código Python</p>\n",
    "\n",
    "<p>O faturamento da loja foi de R$</p>\n",
    "<p>Vendemos produtos</p>\n",
    "<p>O ticket Médio foi de R$</p>\n",
    "\n",
    "<p>Abs,</p>\n",
    "<p>Código Python</p>\n",
    "\"\"\""
   ]
  },
  {
   "cell_type": "code",
   "execution_count": 46,
   "metadata": {},
   "outputs": [],
   "source": [
    "msg = EmailMessage()\n",
    "msg['Subject'] = EMAIL_SUBJECT\n",
    "msg['From'] = EMAIL_FROM\n",
    "msg['To'] = EMAIL_TO\n",
    "msg.set_content(EMAIL_MESSAGE)\n",
    "msg.add_alternative(\"\"\"\n",
    "<!DOCTYPE html>\n",
    "<html>\n",
    "    <body>\n",
    "        <h1 style=\"color:MidnightBlue;\">Email escrito em HTML!</h1>\n",
    "    </body>\n",
    "</html>\n",
    "\"\"\", subtype='html')\n",
    "msg.add_alternative(\"\"\"\n",
    "<!DOCTYPE html>\n",
    "<html>\n",
    "    <body>\n",
    "        <p><strong>*MENSAGEM AUTOMÁTICA</strong><br>\n",
    "        <br>\n",
    "        Prezado(a) @{triggerOutputs()?['body/Title']},<br>\n",
    "        <br>\n",
    "        Agradecemos o seu contato. Sua documentação foi recebida com sucesso, conforme abaixo:<br>\n",
    "        <br>\n",
    "        <strong>Forma de entrega:</strong> @{triggerOutputs()?['body/TIPO_DE_ENTREGA/Value']}<br>\n",
    "        <strong>CPF:</strong> @{triggerOutputs()?['body/CPF/Value']}<br>\n",
    "        <strong>RG:</strong> @{triggerOutputs()?['body/RG/Value']}<br>\n",
    "        <strong>Holerite:</strong> @{triggerOutputs()?['body/HOLERITE/Value']}<br>\n",
    "        <strong>Comprovante de residência:</strong> @{triggerOutputs()?['body/COMPROVANTE_DE_RESIDENCIA/Value']}<br>\n",
    "        <br>\n",
    "        Futuramente entraremos em contato para mais informações e próximos passos, aguarde novo contato.<br>\n",
    "        <br>\n",
    "        <hr>\n",
    "        <strong>Sindicato dos Trabalhadores na Administração Pública e Autarquias no Município de São Paulo – SINDSEP-SP<br>\n",
    "        Endereço: </strong>Rua da Quitanda, 101, Centro, São Paulo SP | <a href=\"https://www.google.com/maps/place/Sindsep+-+Sindicato+dos+Servidores+Municipais+de+S%C3%A3o+Paulo/@-23.547807,-46.6374145,17z/data=!3m1!4b1!4m5!3m4!1s0x94ce5854be954cbd:0x10d8943160d93ef!8m2!3d-23.5478119!4d-46.6352258\"><u><strong>veja no mapa</strong></u></a><br>\n",
    "        <strong>e-mail para contato:</strong> <a href=\"mailto:coletivas@sindsep-sp.org.br\">coletivas@sindsep-sp.org.br</a><br>\n",
    "        <strong>Site:</strong> www.sindsep-sp.org.br |<strong> </strong><a href=\"https://sindsep-sp.org.br/\" target=\"blank\"><u><strong>acesse aqui</strong></u></a><br>\n",
    "        <br>\n",
    "        <em><strong>O SINDSEP, se compromete a tratar os dados nos termos da Lei Geral de Proteção de Dados Pessoais e em conformidade com a “Política de Privacidade” disponível no site do SINDSEP-SP.</strong></em> <a href=\"https://sindsep-sp.org.br/institucional/politica-de-privacidade\" target=\"blank\"><u><strong>Leia aqui.</strong></u></a></p>\n",
    "    </body>\n",
    "</html>\n",
    "\"\"\", subtype='html')\n",
    "anexo = f\"{SAVE_DIR}output_fitz.txt\"\n",
    "msg.add_attachment(anexo)"
   ]
  },
  {
   "cell_type": "code",
   "execution_count": 47,
   "metadata": {},
   "outputs": [],
   "source": [
    "files = os.listdir(SAVE_DIR)\n",
    "\n",
    "for file in files:\n",
    "    with open(f\"{SAVE_DIR}/{file}\", 'rb') as f:\n",
    "        file_data = f.read()\n",
    "        file_name = f.name\n",
    "\n",
    "    msg.add_attachment(file_data, \n",
    "        maintype='application', \n",
    "        subtype='octet-stream',\n",
    "        filename=file_name\n",
    "    )"
   ]
  },
  {
   "cell_type": "code",
   "execution_count": 48,
   "metadata": {},
   "outputs": [
    {
     "data": {
      "text/plain": [
       "['output_fitz.txt', 'output_pyPDF2.txt']"
      ]
     },
     "execution_count": 48,
     "metadata": {},
     "output_type": "execute_result"
    }
   ],
   "source": [
    "files"
   ]
  },
  {
   "cell_type": "code",
   "execution_count": 49,
   "metadata": {},
   "outputs": [
    {
     "ename": "SMTPServerDisconnected",
     "evalue": "Connection unexpectedly closed",
     "output_type": "error",
     "traceback": [
      "\u001b[0;31m---------------------------------------------------------------------------\u001b[0m",
      "\u001b[0;31mSMTPServerDisconnected\u001b[0m                    Traceback (most recent call last)",
      "\u001b[1;32m/home/viniciusgb/Projetos/scrapy_dom/ler_pdf/convert.ipynb Cell 17\u001b[0m in \u001b[0;36m<cell line: 1>\u001b[0;34m()\u001b[0m\n\u001b[0;32m----> <a href='vscode-notebook-cell:/home/viniciusgb/Projetos/scrapy_dom/ler_pdf/convert.ipynb#X21sZmlsZQ%3D%3D?line=0'>1</a>\u001b[0m smtp \u001b[39m=\u001b[39m smtplib\u001b[39m.\u001b[39;49mSMTP(SMTP_SERVER,SMTP_PORT)\n",
      "File \u001b[0;32m/usr/lib/python3.8/smtplib.py:255\u001b[0m, in \u001b[0;36mSMTP.__init__\u001b[0;34m(self, host, port, local_hostname, timeout, source_address)\u001b[0m\n\u001b[1;32m    252\u001b[0m \u001b[39mself\u001b[39m\u001b[39m.\u001b[39m_auth_challenge_count \u001b[39m=\u001b[39m \u001b[39m0\u001b[39m\n\u001b[1;32m    254\u001b[0m \u001b[39mif\u001b[39;00m host:\n\u001b[0;32m--> 255\u001b[0m     (code, msg) \u001b[39m=\u001b[39m \u001b[39mself\u001b[39;49m\u001b[39m.\u001b[39;49mconnect(host, port)\n\u001b[1;32m    256\u001b[0m     \u001b[39mif\u001b[39;00m code \u001b[39m!=\u001b[39m \u001b[39m220\u001b[39m:\n\u001b[1;32m    257\u001b[0m         \u001b[39mself\u001b[39m\u001b[39m.\u001b[39mclose()\n",
      "File \u001b[0;32m/usr/lib/python3.8/smtplib.py:341\u001b[0m, in \u001b[0;36mSMTP.connect\u001b[0;34m(self, host, port, source_address)\u001b[0m\n\u001b[1;32m    339\u001b[0m \u001b[39mself\u001b[39m\u001b[39m.\u001b[39msock \u001b[39m=\u001b[39m \u001b[39mself\u001b[39m\u001b[39m.\u001b[39m_get_socket(host, port, \u001b[39mself\u001b[39m\u001b[39m.\u001b[39mtimeout)\n\u001b[1;32m    340\u001b[0m \u001b[39mself\u001b[39m\u001b[39m.\u001b[39mfile \u001b[39m=\u001b[39m \u001b[39mNone\u001b[39;00m\n\u001b[0;32m--> 341\u001b[0m (code, msg) \u001b[39m=\u001b[39m \u001b[39mself\u001b[39;49m\u001b[39m.\u001b[39;49mgetreply()\n\u001b[1;32m    342\u001b[0m \u001b[39mif\u001b[39;00m \u001b[39mself\u001b[39m\u001b[39m.\u001b[39mdebuglevel \u001b[39m>\u001b[39m \u001b[39m0\u001b[39m:\n\u001b[1;32m    343\u001b[0m     \u001b[39mself\u001b[39m\u001b[39m.\u001b[39m_print_debug(\u001b[39m'\u001b[39m\u001b[39mconnect:\u001b[39m\u001b[39m'\u001b[39m, \u001b[39mrepr\u001b[39m(msg))\n",
      "File \u001b[0;32m/usr/lib/python3.8/smtplib.py:398\u001b[0m, in \u001b[0;36mSMTP.getreply\u001b[0;34m(self)\u001b[0m\n\u001b[1;32m    396\u001b[0m \u001b[39mif\u001b[39;00m \u001b[39mnot\u001b[39;00m line:\n\u001b[1;32m    397\u001b[0m     \u001b[39mself\u001b[39m\u001b[39m.\u001b[39mclose()\n\u001b[0;32m--> 398\u001b[0m     \u001b[39mraise\u001b[39;00m SMTPServerDisconnected(\u001b[39m\"\u001b[39m\u001b[39mConnection unexpectedly closed\u001b[39m\u001b[39m\"\u001b[39m)\n\u001b[1;32m    399\u001b[0m \u001b[39mif\u001b[39;00m \u001b[39mself\u001b[39m\u001b[39m.\u001b[39mdebuglevel \u001b[39m>\u001b[39m \u001b[39m0\u001b[39m:\n\u001b[1;32m    400\u001b[0m     \u001b[39mself\u001b[39m\u001b[39m.\u001b[39m_print_debug(\u001b[39m'\u001b[39m\u001b[39mreply:\u001b[39m\u001b[39m'\u001b[39m, \u001b[39mrepr\u001b[39m(line))\n",
      "\u001b[0;31mSMTPServerDisconnected\u001b[0m: Connection unexpectedly closed"
     ]
    }
   ],
   "source": [
    "smtp = smtplib.SMTP(SMTP_SERVER,SMTP_PORT)"
   ]
  },
  {
   "cell_type": "code",
   "execution_count": 42,
   "metadata": {},
   "outputs": [
    {
     "data": {
      "text/plain": [
       "(220, b'2.0.0 Ready to start TLS')"
      ]
     },
     "execution_count": 42,
     "metadata": {},
     "output_type": "execute_result"
    }
   ],
   "source": [
    "smtp.starttls()"
   ]
  },
  {
   "cell_type": "code",
   "execution_count": 44,
   "metadata": {},
   "outputs": [
    {
     "ename": "SMTPAuthenticationError",
     "evalue": "(534, b'5.7.9 Application-specific password required. Learn more at\\n5.7.9  https://support.google.com/mail/?p=InvalidSecondFactor e21-20020a67eb95000000b00388aa515f3csm9593375vso.20 - gsmtp')",
     "output_type": "error",
     "traceback": [
      "\u001b[0;31m---------------------------------------------------------------------------\u001b[0m",
      "\u001b[0;31mSMTPAuthenticationError\u001b[0m                   Traceback (most recent call last)",
      "\u001b[1;32m/home/viniciusgb/Projetos/scrapy_dom/ler_pdf/convert.ipynb Cell 19\u001b[0m in \u001b[0;36m<cell line: 1>\u001b[0;34m()\u001b[0m\n\u001b[0;32m----> <a href='vscode-notebook-cell:/home/viniciusgb/Projetos/scrapy_dom/ler_pdf/convert.ipynb#X23sZmlsZQ%3D%3D?line=0'>1</a>\u001b[0m smtp\u001b[39m.\u001b[39;49mlogin(SMTP_USERNAME,SMTP_PASSWORD)\n",
      "File \u001b[0;32m/usr/lib/python3.8/smtplib.py:743\u001b[0m, in \u001b[0;36mSMTP.login\u001b[0;34m(self, user, password, initial_response_ok)\u001b[0m\n\u001b[1;32m    740\u001b[0m         last_exception \u001b[39m=\u001b[39m e\n\u001b[1;32m    742\u001b[0m \u001b[39m# We could not login successfully.  Return result of last attempt.\u001b[39;00m\n\u001b[0;32m--> 743\u001b[0m \u001b[39mraise\u001b[39;00m last_exception\n",
      "File \u001b[0;32m/usr/lib/python3.8/smtplib.py:732\u001b[0m, in \u001b[0;36mSMTP.login\u001b[0;34m(self, user, password, initial_response_ok)\u001b[0m\n\u001b[1;32m    730\u001b[0m method_name \u001b[39m=\u001b[39m \u001b[39m'\u001b[39m\u001b[39mauth_\u001b[39m\u001b[39m'\u001b[39m \u001b[39m+\u001b[39m authmethod\u001b[39m.\u001b[39mlower()\u001b[39m.\u001b[39mreplace(\u001b[39m'\u001b[39m\u001b[39m-\u001b[39m\u001b[39m'\u001b[39m, \u001b[39m'\u001b[39m\u001b[39m_\u001b[39m\u001b[39m'\u001b[39m)\n\u001b[1;32m    731\u001b[0m \u001b[39mtry\u001b[39;00m:\n\u001b[0;32m--> 732\u001b[0m     (code, resp) \u001b[39m=\u001b[39m \u001b[39mself\u001b[39;49m\u001b[39m.\u001b[39;49mauth(\n\u001b[1;32m    733\u001b[0m         authmethod, \u001b[39mgetattr\u001b[39;49m(\u001b[39mself\u001b[39;49m, method_name),\n\u001b[1;32m    734\u001b[0m         initial_response_ok\u001b[39m=\u001b[39;49minitial_response_ok)\n\u001b[1;32m    735\u001b[0m     \u001b[39m# 235 == 'Authentication successful'\u001b[39;00m\n\u001b[1;32m    736\u001b[0m     \u001b[39m# 503 == 'Error: already authenticated'\u001b[39;00m\n\u001b[1;32m    737\u001b[0m     \u001b[39mif\u001b[39;00m code \u001b[39min\u001b[39;00m (\u001b[39m235\u001b[39m, \u001b[39m503\u001b[39m):\n",
      "File \u001b[0;32m/usr/lib/python3.8/smtplib.py:655\u001b[0m, in \u001b[0;36mSMTP.auth\u001b[0;34m(self, mechanism, authobject, initial_response_ok)\u001b[0m\n\u001b[1;32m    653\u001b[0m \u001b[39mif\u001b[39;00m code \u001b[39min\u001b[39;00m (\u001b[39m235\u001b[39m, \u001b[39m503\u001b[39m):\n\u001b[1;32m    654\u001b[0m     \u001b[39mreturn\u001b[39;00m (code, resp)\n\u001b[0;32m--> 655\u001b[0m \u001b[39mraise\u001b[39;00m SMTPAuthenticationError(code, resp)\n",
      "\u001b[0;31mSMTPAuthenticationError\u001b[0m: (534, b'5.7.9 Application-specific password required. Learn more at\\n5.7.9  https://support.google.com/mail/?p=InvalidSecondFactor e21-20020a67eb95000000b00388aa515f3csm9593375vso.20 - gsmtp')"
     ]
    }
   ],
   "source": [
    "smtp.login(SMTP_USERNAME,SMTP_PASSWORD)"
   ]
  },
  {
   "cell_type": "code",
   "execution_count": 22,
   "metadata": {},
   "outputs": [],
   "source": [
    "message = 'Subject: {}\\n\\n{}'.format(EMAIL_SUBJECT, EMAIL_MESSAGE)"
   ]
  },
  {
   "cell_type": "code",
   "execution_count": 23,
   "metadata": {},
   "outputs": [
    {
     "ename": "SMTPServerDisconnected",
     "evalue": "please run connect() first",
     "output_type": "error",
     "traceback": [
      "\u001b[0;31m---------------------------------------------------------------------------\u001b[0m",
      "\u001b[0;31mSMTPServerDisconnected\u001b[0m                    Traceback (most recent call last)",
      "\u001b[1;32m/home/viniciusgb/Projetos/scrapy_dom/ler_pdf/convert.ipynb Cell 20\u001b[0m in \u001b[0;36m<cell line: 1>\u001b[0;34m()\u001b[0m\n\u001b[0;32m----> <a href='vscode-notebook-cell:/home/viniciusgb/Projetos/scrapy_dom/ler_pdf/convert.ipynb#X25sZmlsZQ%3D%3D?line=0'>1</a>\u001b[0m smtp\u001b[39m.\u001b[39;49msend_message(msg)\n",
      "File \u001b[0;32m/usr/lib/python3.8/smtplib.py:936\u001b[0m, in \u001b[0;36mSMTP.send_message\u001b[0;34m(self, msg, from_addr, to_addrs, mail_options, rcpt_options)\u001b[0m\n\u001b[1;32m    907\u001b[0m \u001b[39m\"\"\"Converts message to a bytestring and passes it to sendmail.\u001b[39;00m\n\u001b[1;32m    908\u001b[0m \n\u001b[1;32m    909\u001b[0m \u001b[39mThe arguments are as for sendmail, except that msg is an\u001b[39;00m\n\u001b[0;32m   (...)\u001b[0m\n\u001b[1;32m    924\u001b[0m \n\u001b[1;32m    925\u001b[0m \u001b[39m\"\"\"\u001b[39;00m\n\u001b[1;32m    926\u001b[0m \u001b[39m# 'Resent-Date' is a mandatory field if the Message is resent (RFC 2822\u001b[39;00m\n\u001b[1;32m    927\u001b[0m \u001b[39m# Section 3.6.6). In such a case, we use the 'Resent-*' fields.  However,\u001b[39;00m\n\u001b[1;32m    928\u001b[0m \u001b[39m# if there is more than one 'Resent-' block there's no way to\u001b[39;00m\n\u001b[0;32m   (...)\u001b[0m\n\u001b[1;32m    933\u001b[0m \u001b[39m# option allowing the user to enable the heuristics.  (It should be\u001b[39;00m\n\u001b[1;32m    934\u001b[0m \u001b[39m# possible to guess correctly almost all of the time.)\u001b[39;00m\n\u001b[0;32m--> 936\u001b[0m \u001b[39mself\u001b[39;49m\u001b[39m.\u001b[39;49mehlo_or_helo_if_needed()\n\u001b[1;32m    937\u001b[0m resent \u001b[39m=\u001b[39m msg\u001b[39m.\u001b[39mget_all(\u001b[39m'\u001b[39m\u001b[39mResent-Date\u001b[39m\u001b[39m'\u001b[39m)\n\u001b[1;32m    938\u001b[0m \u001b[39mif\u001b[39;00m resent \u001b[39mis\u001b[39;00m \u001b[39mNone\u001b[39;00m:\n",
      "File \u001b[0;32m/usr/lib/python3.8/smtplib.py:604\u001b[0m, in \u001b[0;36mSMTP.ehlo_or_helo_if_needed\u001b[0;34m(self)\u001b[0m\n\u001b[1;32m    593\u001b[0m \u001b[39m\"\"\"Call self.ehlo() and/or self.helo() if needed.\u001b[39;00m\n\u001b[1;32m    594\u001b[0m \n\u001b[1;32m    595\u001b[0m \u001b[39mIf there has been no previous EHLO or HELO command this session, this\u001b[39;00m\n\u001b[0;32m   (...)\u001b[0m\n\u001b[1;32m    601\u001b[0m \u001b[39m                          the helo greeting.\u001b[39;00m\n\u001b[1;32m    602\u001b[0m \u001b[39m\"\"\"\u001b[39;00m\n\u001b[1;32m    603\u001b[0m \u001b[39mif\u001b[39;00m \u001b[39mself\u001b[39m\u001b[39m.\u001b[39mhelo_resp \u001b[39mis\u001b[39;00m \u001b[39mNone\u001b[39;00m \u001b[39mand\u001b[39;00m \u001b[39mself\u001b[39m\u001b[39m.\u001b[39mehlo_resp \u001b[39mis\u001b[39;00m \u001b[39mNone\u001b[39;00m:\n\u001b[0;32m--> 604\u001b[0m     \u001b[39mif\u001b[39;00m \u001b[39mnot\u001b[39;00m (\u001b[39m200\u001b[39m \u001b[39m<\u001b[39m\u001b[39m=\u001b[39m \u001b[39mself\u001b[39;49m\u001b[39m.\u001b[39;49mehlo()[\u001b[39m0\u001b[39m] \u001b[39m<\u001b[39m\u001b[39m=\u001b[39m \u001b[39m299\u001b[39m):\n\u001b[1;32m    605\u001b[0m         (code, resp) \u001b[39m=\u001b[39m \u001b[39mself\u001b[39m\u001b[39m.\u001b[39mhelo()\n\u001b[1;32m    606\u001b[0m         \u001b[39mif\u001b[39;00m \u001b[39mnot\u001b[39;00m (\u001b[39m200\u001b[39m \u001b[39m<\u001b[39m\u001b[39m=\u001b[39m code \u001b[39m<\u001b[39m\u001b[39m=\u001b[39m \u001b[39m299\u001b[39m):\n",
      "File \u001b[0;32m/usr/lib/python3.8/smtplib.py:444\u001b[0m, in \u001b[0;36mSMTP.ehlo\u001b[0;34m(self, name)\u001b[0m\n\u001b[1;32m    439\u001b[0m \u001b[39m\"\"\" SMTP 'ehlo' command.\u001b[39;00m\n\u001b[1;32m    440\u001b[0m \u001b[39mHostname to send for this command defaults to the FQDN of the local\u001b[39;00m\n\u001b[1;32m    441\u001b[0m \u001b[39mhost.\u001b[39;00m\n\u001b[1;32m    442\u001b[0m \u001b[39m\"\"\"\u001b[39;00m\n\u001b[1;32m    443\u001b[0m \u001b[39mself\u001b[39m\u001b[39m.\u001b[39mesmtp_features \u001b[39m=\u001b[39m {}\n\u001b[0;32m--> 444\u001b[0m \u001b[39mself\u001b[39;49m\u001b[39m.\u001b[39;49mputcmd(\u001b[39mself\u001b[39;49m\u001b[39m.\u001b[39;49mehlo_msg, name \u001b[39mor\u001b[39;49;00m \u001b[39mself\u001b[39;49m\u001b[39m.\u001b[39;49mlocal_hostname)\n\u001b[1;32m    445\u001b[0m (code, msg) \u001b[39m=\u001b[39m \u001b[39mself\u001b[39m\u001b[39m.\u001b[39mgetreply()\n\u001b[1;32m    446\u001b[0m \u001b[39m# According to RFC1869 some (badly written)\u001b[39;00m\n\u001b[1;32m    447\u001b[0m \u001b[39m# MTA's will disconnect on an ehlo. Toss an exception if\u001b[39;00m\n\u001b[1;32m    448\u001b[0m \u001b[39m# that happens -ddm\u001b[39;00m\n",
      "File \u001b[0;32m/usr/lib/python3.8/smtplib.py:371\u001b[0m, in \u001b[0;36mSMTP.putcmd\u001b[0;34m(self, cmd, args)\u001b[0m\n\u001b[1;32m    369\u001b[0m \u001b[39melse\u001b[39;00m:\n\u001b[1;32m    370\u001b[0m     \u001b[39mstr\u001b[39m \u001b[39m=\u001b[39m \u001b[39m'\u001b[39m\u001b[39m%s\u001b[39;00m\u001b[39m \u001b[39m\u001b[39m%s\u001b[39;00m\u001b[39m%s\u001b[39;00m\u001b[39m'\u001b[39m \u001b[39m%\u001b[39m (cmd, args, CRLF)\n\u001b[0;32m--> 371\u001b[0m \u001b[39mself\u001b[39;49m\u001b[39m.\u001b[39;49msend(\u001b[39mstr\u001b[39;49m)\n",
      "File \u001b[0;32m/usr/lib/python3.8/smtplib.py:363\u001b[0m, in \u001b[0;36mSMTP.send\u001b[0;34m(self, s)\u001b[0m\n\u001b[1;32m    361\u001b[0m         \u001b[39mraise\u001b[39;00m SMTPServerDisconnected(\u001b[39m'\u001b[39m\u001b[39mServer not connected\u001b[39m\u001b[39m'\u001b[39m)\n\u001b[1;32m    362\u001b[0m \u001b[39melse\u001b[39;00m:\n\u001b[0;32m--> 363\u001b[0m     \u001b[39mraise\u001b[39;00m SMTPServerDisconnected(\u001b[39m'\u001b[39m\u001b[39mplease run connect() first\u001b[39m\u001b[39m'\u001b[39m)\n",
      "\u001b[0;31mSMTPServerDisconnected\u001b[0m: please run connect() first"
     ]
    }
   ],
   "source": [
    "smtp.send_message(msg)"
   ]
  },
  {
   "cell_type": "code",
   "execution_count": 24,
   "metadata": {},
   "outputs": [
    {
     "ename": "SMTPServerDisconnected",
     "evalue": "please run connect() first",
     "output_type": "error",
     "traceback": [
      "\u001b[0;31m---------------------------------------------------------------------------\u001b[0m",
      "\u001b[0;31mSMTPServerDisconnected\u001b[0m                    Traceback (most recent call last)",
      "\u001b[1;32m/home/viniciusgb/Projetos/scrapy_dom/ler_pdf/convert.ipynb Cell 21\u001b[0m in \u001b[0;36m<cell line: 1>\u001b[0;34m()\u001b[0m\n\u001b[0;32m----> <a href='vscode-notebook-cell:/home/viniciusgb/Projetos/scrapy_dom/ler_pdf/convert.ipynb#X26sZmlsZQ%3D%3D?line=0'>1</a>\u001b[0m smtp\u001b[39m.\u001b[39;49mquit()\n",
      "File \u001b[0;32m/usr/lib/python3.8/smtplib.py:997\u001b[0m, in \u001b[0;36mSMTP.quit\u001b[0;34m(self)\u001b[0m\n\u001b[1;32m    995\u001b[0m \u001b[39mdef\u001b[39;00m \u001b[39mquit\u001b[39m(\u001b[39mself\u001b[39m):\n\u001b[1;32m    996\u001b[0m     \u001b[39m\"\"\"Terminate the SMTP session.\"\"\"\u001b[39;00m\n\u001b[0;32m--> 997\u001b[0m     res \u001b[39m=\u001b[39m \u001b[39mself\u001b[39;49m\u001b[39m.\u001b[39;49mdocmd(\u001b[39m\"\u001b[39;49m\u001b[39mquit\u001b[39;49m\u001b[39m\"\u001b[39;49m)\n\u001b[1;32m    998\u001b[0m     \u001b[39m# A new EHLO is required after reconnecting with connect()\u001b[39;00m\n\u001b[1;32m    999\u001b[0m     \u001b[39mself\u001b[39m\u001b[39m.\u001b[39mehlo_resp \u001b[39m=\u001b[39m \u001b[39mself\u001b[39m\u001b[39m.\u001b[39mhelo_resp \u001b[39m=\u001b[39m \u001b[39mNone\u001b[39;00m\n",
      "File \u001b[0;32m/usr/lib/python3.8/smtplib.py:424\u001b[0m, in \u001b[0;36mSMTP.docmd\u001b[0;34m(self, cmd, args)\u001b[0m\n\u001b[1;32m    422\u001b[0m \u001b[39mdef\u001b[39;00m \u001b[39mdocmd\u001b[39m(\u001b[39mself\u001b[39m, cmd, args\u001b[39m=\u001b[39m\u001b[39m\"\u001b[39m\u001b[39m\"\u001b[39m):\n\u001b[1;32m    423\u001b[0m     \u001b[39m\"\"\"Send a command, and return its response code.\"\"\"\u001b[39;00m\n\u001b[0;32m--> 424\u001b[0m     \u001b[39mself\u001b[39;49m\u001b[39m.\u001b[39;49mputcmd(cmd, args)\n\u001b[1;32m    425\u001b[0m     \u001b[39mreturn\u001b[39;00m \u001b[39mself\u001b[39m\u001b[39m.\u001b[39mgetreply()\n",
      "File \u001b[0;32m/usr/lib/python3.8/smtplib.py:371\u001b[0m, in \u001b[0;36mSMTP.putcmd\u001b[0;34m(self, cmd, args)\u001b[0m\n\u001b[1;32m    369\u001b[0m \u001b[39melse\u001b[39;00m:\n\u001b[1;32m    370\u001b[0m     \u001b[39mstr\u001b[39m \u001b[39m=\u001b[39m \u001b[39m'\u001b[39m\u001b[39m%s\u001b[39;00m\u001b[39m \u001b[39m\u001b[39m%s\u001b[39;00m\u001b[39m%s\u001b[39;00m\u001b[39m'\u001b[39m \u001b[39m%\u001b[39m (cmd, args, CRLF)\n\u001b[0;32m--> 371\u001b[0m \u001b[39mself\u001b[39;49m\u001b[39m.\u001b[39;49msend(\u001b[39mstr\u001b[39;49m)\n",
      "File \u001b[0;32m/usr/lib/python3.8/smtplib.py:363\u001b[0m, in \u001b[0;36mSMTP.send\u001b[0;34m(self, s)\u001b[0m\n\u001b[1;32m    361\u001b[0m         \u001b[39mraise\u001b[39;00m SMTPServerDisconnected(\u001b[39m'\u001b[39m\u001b[39mServer not connected\u001b[39m\u001b[39m'\u001b[39m)\n\u001b[1;32m    362\u001b[0m \u001b[39melse\u001b[39;00m:\n\u001b[0;32m--> 363\u001b[0m     \u001b[39mraise\u001b[39;00m SMTPServerDisconnected(\u001b[39m'\u001b[39m\u001b[39mplease run connect() first\u001b[39m\u001b[39m'\u001b[39m)\n",
      "\u001b[0;31mSMTPServerDisconnected\u001b[0m: please run connect() first"
     ]
    }
   ],
   "source": [
    "smtp.quit()"
   ]
  },
  {
   "cell_type": "code",
   "execution_count": null,
   "metadata": {},
   "outputs": [],
   "source": []
  }
 ],
 "metadata": {
  "kernelspec": {
   "display_name": "Python 3.10.7 64-bit (microsoft store)",
   "language": "python",
   "name": "python3"
  },
  "language_info": {
   "codemirror_mode": {
    "name": "ipython",
    "version": 3
   },
   "file_extension": ".py",
   "mimetype": "text/x-python",
   "name": "python",
   "nbconvert_exporter": "python",
   "pygments_lexer": "ipython3",
   "version": "3.10.7"
  },
  "orig_nbformat": 4,
  "vscode": {
   "interpreter": {
    "hash": "c9fe145096db40b40bff0112b508e49e0bbd5bafc1a549dffcd15c533950432a"
   }
  }
 },
 "nbformat": 4,
 "nbformat_minor": 2
}
